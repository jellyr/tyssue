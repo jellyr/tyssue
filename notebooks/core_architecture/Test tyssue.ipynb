{
 "cells": [
  {
   "cell_type": "code",
   "execution_count": 1,
   "metadata": {
    "collapsed": false,
    "scrolled": true
   },
   "outputs": [],
   "source": [
    "%load_ext autoreload\n",
    "%autoreload 2\n",
    "\n",
    "\n",
    "import tyssue\n"
   ]
  },
  {
   "cell_type": "code",
   "execution_count": 2,
   "metadata": {
    "collapsed": false
   },
   "outputs": [],
   "source": [
    "datasets = tyssue.core.generation.three_cells_sheet()"
   ]
  },
  {
   "cell_type": "code",
   "execution_count": 3,
   "metadata": {
    "collapsed": true
   },
   "outputs": [],
   "source": [
    "from tyssue.core.sheet import Sheet\n",
    "sheet = ('3cells_2D', datasets)"
   ]
  },
  {
   "cell_type": "code",
   "execution_count": 6,
   "metadata": {
    "collapsed": true
   },
   "outputs": [],
   "source": [
    "import setuptools\n",
    "%load_ext Cython"
   ]
  },
  {
   "cell_type": "code",
   "execution_count": 8,
   "metadata": {
    "collapsed": false
   },
   "outputs": [
    {
     "name": "stderr",
     "output_type": "stream",
     "text": [
      "\n",
      "Error compiling Cython file:\n",
      "------------------------------------------------------------\n",
      "...\n",
      "        T& operator[](int)\n",
      "        T& at(int)\n",
      "        iterator begin()\n",
      "        iterator end()\n",
      "\n",
      "cdef vector[int] *v = new vector[int]()\n",
      "                         ^\n",
      "------------------------------------------------------------\n",
      "\n",
      "/home/guillaume/.cache/ipython/cython/_cython_magic_73076f8ad9bf22338cc94d18b6cc47a9.pyx:18:26: Operation only allowed in c++\n",
      "\n",
      "Error compiling Cython file:\n",
      "------------------------------------------------------------\n",
      "...\n",
      "cdef vector[int].iterator it = v.begin()\n",
      "while it != v.end():\n",
      "    print deref(it)\n",
      "    inc(it)\n",
      "\n",
      "del v\n",
      "^\n",
      "------------------------------------------------------------\n",
      "\n",
      "/home/guillaume/.cache/ipython/cython/_cython_magic_73076f8ad9bf22338cc94d18b6cc47a9.pyx:28:0: Operation only allowed in c++\n"
     ]
    }
   ],
   "source": [
    "%%cython -a\n",
    "\n",
    "from cython.operator cimport dereference as deref, preincrement as inc #dereference and increment operators\n",
    "\n",
    "cdef extern from \"<vector>\" namespace \"std\":\n",
    "    cdef cppclass vector[T]:\n",
    "        cppclass iterator:\n",
    "            T operator*()\n",
    "            iterator operator++()\n",
    "            bint operator==(iterator)\n",
    "            bint operator!=(iterator)\n",
    "        vector()\n",
    "        void push_back(T&)\n",
    "        T& operator[](int)\n",
    "        T& at(int)\n",
    "        iterator begin()\n",
    "        iterator end()\n",
    "\n",
    "cdef vector[int] *v = new vector[int]()\n",
    "cdef int i\n",
    "for i in range(10):\n",
    "    v.push_back(i)\n",
    "\n",
    "cdef vector[int].iterator it = v.begin()\n",
    "while it != v.end():\n",
    "    print deref(it)\n",
    "    inc(it)\n",
    "\n",
    "del v"
   ]
  },
  {
   "cell_type": "code",
   "execution_count": null,
   "metadata": {
    "collapsed": true
   },
   "outputs": [],
   "source": []
  }
 ],
 "metadata": {
  "kernelspec": {
   "display_name": "Python 3",
   "language": "python",
   "name": "python3"
  },
  "language_info": {
   "codemirror_mode": {
    "name": "ipython",
    "version": 3
   },
   "file_extension": ".py",
   "mimetype": "text/x-python",
   "name": "python",
   "nbconvert_exporter": "python",
   "pygments_lexer": "ipython3",
   "version": "3.5.0"
  }
 },
 "nbformat": 4,
 "nbformat_minor": 0
}
